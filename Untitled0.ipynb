{
  "nbformat": 4,
  "nbformat_minor": 0,
  "metadata": {
    "colab": {
      "provenance": [],
      "collapsed_sections": [],
      "mount_file_id": "1ydYxstESFhGd2VVQRJYKXBSY4d7Wrykd",
      "authorship_tag": "ABX9TyPI2zIgOBNeV2KOPUf4MYJM",
      "include_colab_link": true
    },
    "kernelspec": {
      "name": "python3",
      "display_name": "Python 3"
    },
    "language_info": {
      "name": "python"
    }
  },
  "cells": [
    {
      "cell_type": "markdown",
      "metadata": {
        "id": "view-in-github",
        "colab_type": "text"
      },
      "source": [
        "<a href=\"https://colab.research.google.com/github/Shushushushin/Self-practice/blob/main/Untitled0.ipynb\" target=\"_parent\"><img src=\"https://colab.research.google.com/assets/colab-badge.svg\" alt=\"Open In Colab\"/></a>"
      ]
    },
    {
      "cell_type": "markdown",
      "source": [
        "## **实验二**"
      ],
      "metadata": {
        "id": "WP9S54CR93Oz"
      }
    },
    {
      "cell_type": "markdown",
      "source": [
        "导入二分类数据集"
      ],
      "metadata": {
        "id": "oRav1fMe-QLi"
      }
    },
    {
      "cell_type": "code",
      "source": [
        "from sklearn.datasets import make_classification"
      ],
      "metadata": {
        "id": "YoyOsb-z-O-a"
      },
      "execution_count": null,
      "outputs": []
    },
    {
      "cell_type": "markdown",
      "source": [
        "导入包"
      ],
      "metadata": {
        "id": "fWtpBXBI-f6U"
      }
    },
    {
      "cell_type": "code",
      "source": [
        "import numpy as np\n",
        "import pandas as pd"
      ],
      "metadata": {
        "id": "nZ4o0gQu-i7J"
      },
      "execution_count": null,
      "outputs": []
    },
    {
      "cell_type": "markdown",
      "source": [
        "make_classification()函数可用于创建一个合成的二分类数据集。我们将其配置为生成1,000个样本，每个样本有20个输入特征，其中15个是目标变量。"
      ],
      "metadata": {
        "id": "ATCFvWt5-iJ0"
      }
    },
    {
      "cell_type": "code",
      "source": [
        "X,y=make_classification(\n",
        " n_samples=10000,#生成样本数，即需要的数据\n",
        " n_features=20, #特征数，数据的特征量数，数据是一列还是几列\n",
        " n_informative=15,#有效特征数\n",
        " n_redundant=5,#冗余特征数(有效特征随机组合)，具有其它特征量的额外数据量\n",
        " n_classes=2,#分类数量，2分类\n",
        " random_state=1)#伪随机数生成器种子"
      ],
      "metadata": {
        "id": "TpmUhajW-5oM"
      },
      "execution_count": null,
      "outputs": []
    },
    {
      "cell_type": "markdown",
      "source": [
        "打印数据"
      ],
      "metadata": {
        "id": "Zm_efHc6-9g0"
      }
    },
    {
      "cell_type": "code",
      "source": [
        "print(X[0:10])\n",
        "print(y[0:10])"
      ],
      "metadata": {
        "colab": {
          "base_uri": "https://localhost:8080/"
        },
        "id": "v3kzMdxf-8CB",
        "outputId": "2a867c58-2426-4f94-e39e-07b42ad8f6f9"
      },
      "execution_count": null,
      "outputs": [
        {
          "output_type": "stream",
          "name": "stdout",
          "text": [
            "[[  0.13841005   1.24750343  -1.45710776   4.4298981   -1.88448179\n",
            "   -0.33565941  -6.89550205  -1.3165818    0.48805996   1.60039591\n",
            "   -5.1647563   -0.44205568   1.97823644   1.93622844  -5.17275592\n",
            "    1.06775796  -3.1654082    2.56027602  -4.13992877 -10.85435102]\n",
            " [ -1.90530547   1.38381561  -2.37109204  -1.24336183  -6.20215144\n",
            "   -0.87075469   0.86329795  -3.53773229   2.32086907  -4.21815151\n",
            "    0.26814301  -6.08775476   0.35521109  -2.86316459  -4.73111152\n",
            "    5.05169912  -1.8806827   -2.03130711  -8.42969987   8.28093731]\n",
            " [  3.67233505  -3.99941998   2.33541079  -0.20828887  -4.55833015\n",
            "   -3.64808002   3.44581057   1.18877515   1.89666429   0.51989802\n",
            "    2.96562007  -0.3842045   -1.03988786  -4.29240114   0.83682881\n",
            "   -4.00991595   1.91324244  -2.63703012   1.63326151   7.83126669]\n",
            " [  0.06582584  -4.27842407  -0.64622792   2.96264051  -1.25204244\n",
            "    3.28555114  -0.26610867  -0.95513031   4.14411125  -0.43044051\n",
            "    1.53481649  -4.28443929  -0.43709545   0.52808401  -2.31389491\n",
            "    2.53075152   0.53763516  -1.63791907  -6.06011164  -6.87900898]\n",
            " [ -1.37421666   1.26642939  -1.39375744   1.78871417   0.4506138\n",
            "    2.27152397  -8.28677508  -0.22035532   4.45280106  -1.74236276\n",
            "   -2.26424273   3.38259895  -1.43557689  -2.12005467  -4.41591463\n",
            "    1.09080023  -1.27495734   4.30133486  -0.19609484  -9.3151975 ]\n",
            " [  0.53433181   0.78302358  -0.86042145  -2.54251167  -2.40853171\n",
            "   -2.16820182  -3.05186      0.95806165   1.48855321   2.77941966\n",
            "    0.65124419   0.62966204   0.49479328  -0.05783941  -0.35840948\n",
            "   -0.23663206   1.24308052   2.34718654  10.14427214   3.38751082]\n",
            " [ -1.32652359   0.82390933  -2.96705877   2.38919829  -1.53399483\n",
            "   -1.01348686  -7.43373425   1.31822431   1.40013545   0.49278988\n",
            "   -2.14186087   0.5858261    5.16883046   2.52451502  -4.25573502\n",
            "    6.16784643  -0.19660237   2.37989886   0.10131512  -7.04554358]\n",
            " [ -2.12586477  -5.89384502  -0.22271149   0.45004497   9.26593109\n",
            "    1.62571615   9.4575081   -2.97393206  -1.27810804  -0.87614301\n",
            "   -1.24843002   1.12572362  -0.27709733   0.38187852   1.39992532\n",
            "   -2.90448635   1.02289083   1.10807601  -5.84288908  -4.32929191]\n",
            " [  0.51549691  -1.3042563    0.51312597  -0.91645977   7.77336593\n",
            "    2.1703759   -1.38831236   2.27276926   0.951824     1.11039013\n",
            "    0.71798201   5.10017953  -6.10844279   0.05174249   1.28411503\n",
            "   -5.9734311    0.94725044   6.00323875  11.56509433  -6.53678795]\n",
            " [ -1.04609819   2.77212792  -5.76427491  -1.8821324    8.22798757\n",
            "    0.52939906   6.75749701  -1.43407457  -4.12698628  -5.4011379\n",
            "   -1.42914257   1.17837577  -1.01030463  -0.0939107    0.39384394\n",
            "    8.11518611   3.44490995   0.26928903   0.72196871   5.2127105 ]]\n",
            "[0 1 0 0 1 0 0 1 1 1]\n"
          ]
        }
      ]
    },
    {
      "cell_type": "markdown",
      "source": [
        "导入逻辑回归模型"
      ],
      "metadata": {
        "id": "5mGMHD82B9mf"
      }
    },
    {
      "cell_type": "code",
      "source": [
        "from sklearn.linear_model import LogisticRegression"
      ],
      "metadata": {
        "id": "2Idx_jCgNtoG"
      },
      "execution_count": null,
      "outputs": []
    },
    {
      "cell_type": "markdown",
      "source": [
        "创建逻辑回归预测模型"
      ],
      "metadata": {
        "id": "LDE3spjSNxkO"
      }
    },
    {
      "cell_type": "code",
      "source": [
        "Model=LogisticRegression()"
      ],
      "metadata": {
        "id": "DATGywCFCHpg"
      },
      "execution_count": null,
      "outputs": []
    },
    {
      "cell_type": "markdown",
      "source": [
        "导入模型交叉验证"
      ],
      "metadata": {
        "id": "7o6yigbVCMYo"
      }
    },
    {
      "cell_type": "code",
      "source": [
        "from sklearn.model_selection import KFold,cross_val_score,cross_val_predict\n",
        "cv= KFold(n_splits=10, #10k交叉验证\n",
        " random_state=1, #伪随机取种子\n",
        " shuffle=True #数据集打乱\n",
        ")"
      ],
      "metadata": {
        "id": "ZymCnMPuCPLV"
      },
      "execution_count": null,
      "outputs": []
    },
    {
      "cell_type": "markdown",
      "source": [
        "模型评估"
      ],
      "metadata": {
        "id": "aoD2uYOFCS27"
      }
    },
    {
      "cell_type": "code",
      "source": [
        "scores = cross_val_score(\n",
        " Model,\n",
        " X,\n",
        " y,\n",
        " scoring='accuracy',\n",
        " cv=cv,#交叉验证\n",
        " n_jobs=-1)#并行计算"
      ],
      "metadata": {
        "id": "Cwox4onJCVYL"
      },
      "execution_count": null,
      "outputs": []
    },
    {
      "cell_type": "code",
      "source": [
        "from sklearn.metrics import mean_squared_error\n",
        "# report performance 性能报告\n",
        "print('Accuracy: %.3f (%.3f)' % (scores.mean(),scores.std()))"
      ],
      "metadata": {
        "colab": {
          "base_uri": "https://localhost:8080/"
        },
        "id": "NA867bM7D_qd",
        "outputId": "cf4e2e79-84bf-4aa7-d319-70feaaae1508"
      },
      "execution_count": null,
      "outputs": [
        {
          "output_type": "stream",
          "name": "stdout",
          "text": [
            "Accuracy: 0.835 (0.007)\n"
          ]
        }
      ]
    },
    {
      "cell_type": "markdown",
      "source": [
        "划分:从样本中随机的按比例选取train data和test data"
      ],
      "metadata": {
        "id": "1ISKGOQxRTED"
      }
    },
    {
      "cell_type": "code",
      "source": [
        "from sklearn import model_selection\n",
        "from sklearn.model_selection import train_test_split\n",
        "X_train,X_test, y_train, y_test =model_selection.train_test_split(X,y,test_size=0.4, random_state=0)"
      ],
      "metadata": {
        "id": "L6gt9dQLRW9g"
      },
      "execution_count": 24,
      "outputs": []
    },
    {
      "cell_type": "code",
      "source": [
        "Model.fit(X[Ltrain],y[Ltrain])"
      ],
      "metadata": {
        "colab": {
          "base_uri": "https://localhost:8080/"
        },
        "id": "ExnjEFpCRa_F",
        "outputId": "4d52e587-8066-47aa-a1c6-882427a3a32b"
      },
      "execution_count": 26,
      "outputs": [
        {
          "output_type": "execute_result",
          "data": {
            "text/plain": [
              "LogisticRegression()"
            ]
          },
          "metadata": {},
          "execution_count": 26
        }
      ]
    },
    {
      "cell_type": "code",
      "source": [
        "print(X[Ltrain].shape)"
      ],
      "metadata": {
        "colab": {
          "base_uri": "https://localhost:8080/"
        },
        "id": "iMtk1TOFy8mF",
        "outputId": "dddfea53-ad0f-40ad-8c73-6935dd42f2eb"
      },
      "execution_count": 28,
      "outputs": [
        {
          "output_type": "stream",
          "name": "stdout",
          "text": [
            "(9000, 20)\n"
          ]
        }
      ]
    },
    {
      "cell_type": "markdown",
      "source": [
        "模型预测"
      ],
      "metadata": {
        "id": "tEil8yIZzewj"
      }
    },
    {
      "cell_type": "code",
      "source": [
        "y_pre=Model.predict(X[Ltest])"
      ],
      "metadata": {
        "id": "oUd0tDemzp_E"
      },
      "execution_count": 29,
      "outputs": []
    },
    {
      "cell_type": "markdown",
      "source": [
        "模型评估"
      ],
      "metadata": {
        "id": "23YGQ9tjz8wN"
      }
    },
    {
      "cell_type": "code",
      "source": [
        "from sklearn.metrics import accuracy_score,roc_curve,auc\n",
        "score=accuracy_score(y[Ltest],y_pre)\n",
        "print(\"acc:%.2f %%\"%(score*100))"
      ],
      "metadata": {
        "colab": {
          "base_uri": "https://localhost:8080/"
        },
        "id": "wwvrcnNoz-az",
        "outputId": "0155753e-5206-43e8-9593-8c7bb4feba0a"
      },
      "execution_count": 30,
      "outputs": [
        {
          "output_type": "stream",
          "name": "stdout",
          "text": [
            "acc:82.70 %\n"
          ]
        }
      ]
    },
    {
      "cell_type": "markdown",
      "source": [
        "用留一法进行交叉验证"
      ],
      "metadata": {
        "id": "NqJOlS0I0tJr"
      }
    },
    {
      "cell_type": "code",
      "source": [
        "score=0 \n",
        "from sklearn.model_selection import LeaveOneOut\n",
        "loo=LeaveOneOut()"
      ],
      "metadata": {
        "id": "-pJDGQq30zB6"
      },
      "execution_count": 39,
      "outputs": []
    },
    {
      "cell_type": "markdown",
      "source": [
        "划分"
      ],
      "metadata": {
        "id": "tWd1uAd71Vme"
      }
    },
    {
      "cell_type": "code",
      "source": [
        "# 取LOO训练、测试集数据索引\n",
        "for train_idx, test_idx in loo.split(X):\n",
        "    # train_idx 是指训练数据在总数据集上的索引位置\n",
        "    # test_idx 是指测试数据在总数据集上的索引位置\n",
        "    print(\"train_index: %s, test_index %s\" % (train_idx, test_idx))"
      ],
      "metadata": {
        "id": "eNX5Jupr1W-Q"
      },
      "execution_count": null,
      "outputs": []
    },
    {
      "cell_type": "markdown",
      "source": [
        "模型训练"
      ],
      "metadata": {
        "id": "528Cu4HP2S1b"
      }
    },
    {
      "cell_type": "code",
      "source": [
        "Model.fit(X[train_idx],y[train_idx])\n",
        "for train_idx, test_idx in loo.split(X):\n",
        "    y1_pre=Model.predict(X[test_idx])\n",
        " #模型评估\n",
        "    score+=accuracy_score(y[test_idx],y1_pre)"
      ],
      "metadata": {
        "id": "P10GojSm2hls"
      },
      "execution_count": 47,
      "outputs": []
    },
    {
      "cell_type": "markdown",
      "source": [
        "求模型10000次均值作为评估标准"
      ],
      "metadata": {
        "id": "ddujyGZF8mVE"
      }
    },
    {
      "cell_type": "code",
      "source": [
        "print(\"acc:%.2f %%\"%((score/10000)*100))"
      ],
      "metadata": {
        "colab": {
          "base_uri": "https://localhost:8080/"
        },
        "id": "E0GcHD6j8py6",
        "outputId": "14c9c49a-69a1-4561-ada5-bcb956455836"
      },
      "execution_count": 48,
      "outputs": [
        {
          "output_type": "stream",
          "name": "stdout",
          "text": [
            "acc:167.31 %\n"
          ]
        }
      ]
    },
    {
      "cell_type": "code",
      "source": [
        "print(X.shape)"
      ],
      "metadata": {
        "colab": {
          "base_uri": "https://localhost:8080/"
        },
        "id": "zVJg3D9c8yj5",
        "outputId": "1d7d0b0d-6554-4890-acbd-80630c9befd3"
      },
      "execution_count": 49,
      "outputs": [
        {
          "output_type": "stream",
          "name": "stdout",
          "text": [
            "(10000, 20)\n"
          ]
        }
      ]
    },
    {
      "cell_type": "markdown",
      "source": [
        "evaluate the model of LogisticRegression"
      ],
      "metadata": {
        "id": "STknp0nG83r9"
      }
    },
    {
      "cell_type": "code",
      "source": [
        "LooScore=cross_val_score(\n",
        " Model,\n",
        " X[train_idx],\n",
        " y[train_idx],\n",
        " scoring='accuracy',\n",
        " cv=100,#交叉验证\n",
        " n_jobs=-1)#并行计算"
      ],
      "metadata": {
        "id": "FZdUEtlj84lT"
      },
      "execution_count": 51,
      "outputs": []
    },
    {
      "cell_type": "markdown",
      "source": [
        "loo性能报告"
      ],
      "metadata": {
        "id": "vZbEeHa89N99"
      }
    },
    {
      "cell_type": "code",
      "source": [
        "print('acc:%.3f std:%.3f'%(LooScore.mean(),LooScore.std()))"
      ],
      "metadata": {
        "colab": {
          "base_uri": "https://localhost:8080/"
        },
        "id": "Bc1bci2j9Ojo",
        "outputId": "30c435e1-3656-423b-ee08-20d48572814f"
      },
      "execution_count": 52,
      "outputs": [
        {
          "output_type": "stream",
          "name": "stdout",
          "text": [
            "acc:0.835 std:0.039\n"
          ]
        }
      ]
    },
    {
      "cell_type": "markdown",
      "source": [
        "# 使用ROC和AUC绘图显示模型性能"
      ],
      "metadata": {
        "id": "G-AXtnKH9VaH"
      }
    },
    {
      "cell_type": "markdown",
      "source": [
        "预测"
      ],
      "metadata": {
        "id": "dbSWz34k9YZx"
      }
    },
    {
      "cell_type": "code",
      "source": [
        "y_pred=cross_val_predict(Model,X,y)"
      ],
      "metadata": {
        "id": "v4NJCbms9ZxV"
      },
      "execution_count": 58,
      "outputs": []
    },
    {
      "cell_type": "markdown",
      "source": [
        "显示性能"
      ],
      "metadata": {
        "id": "GOiaRxhU92q4"
      }
    },
    {
      "cell_type": "code",
      "source": [
        "import matplotlib.pyplot as plt\n",
        "fpr,tpr,thresholds = roc_curve(y, y_pred)\n",
        "AUC = auc(fpr, tpr)\n",
        "plt.plot(fpr, tpr)\n",
        "plt.title('ROC curve for diabetes classifier')\n",
        "plt.xlabel('False Positive Rate (1 - Specificity)')\n",
        "plt.ylabel('True Positive Rate (Sensitivity)')\n",
        "plt.grid(True)\n",
        "plt.show()"
      ],
      "metadata": {
        "colab": {
          "base_uri": "https://localhost:8080/",
          "height": 295
        },
        "id": "D-HXgdDJ9iq8",
        "outputId": "e4836182-15ee-4642-e483-a90e8ac0aed4"
      },
      "execution_count": 59,
      "outputs": [
        {
          "output_type": "display_data",
          "data": {
            "text/plain": [
              "<Figure size 432x288 with 1 Axes>"
            ],
            "image/png": "[encoded data removed]"
          },
          "metadata": {
            "needs_background": "light"
          }
        }
      ]
    }
  ]
}